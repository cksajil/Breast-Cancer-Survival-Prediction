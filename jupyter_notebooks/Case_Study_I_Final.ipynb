{
 "cells": [
  {
   "cell_type": "markdown",
   "metadata": {},
   "source": [
    "### Import Libraries"
   ]
  },
  {
   "cell_type": "code",
   "execution_count": 1,
   "metadata": {
    "execution": {
     "iopub.execute_input": "2022-09-13T02:54:48.434574Z",
     "iopub.status.busy": "2022-09-13T02:54:48.434082Z",
     "iopub.status.idle": "2022-09-13T02:54:50.036429Z",
     "shell.execute_reply": "2022-09-13T02:54:50.035111Z",
     "shell.execute_reply.started": "2022-09-13T02:54:48.434482Z"
    }
   },
   "outputs": [],
   "source": [
    "import warnings\n",
    "import numpy as np\n",
    "import pandas as pd\n",
    "from sklearn import svm\n",
    "from sklearn import tree\n",
    "from sklearn import metrics\n",
    "from joblib import dump,load\n",
    "warnings.filterwarnings('ignore')\n",
    "from sklearn import preprocessing\n",
    "from xgboost import XGBClassifier\n",
    "from sklearn.preprocessing import LabelEncoder\n",
    "from sklearn.preprocessing import OneHotEncoder\n",
    "from sklearn.model_selection import GridSearchCV\n",
    "from sklearn.linear_model import LogisticRegression\n",
    "from sklearn.ensemble import RandomForestClassifier\n",
    "from sklearn.model_selection import train_test_split"
   ]
  },
  {
   "cell_type": "code",
   "execution_count": 2,
   "metadata": {
    "execution": {
     "iopub.execute_input": "2022-09-13T02:54:50.042198Z",
     "iopub.status.busy": "2022-09-13T02:54:50.041077Z",
     "iopub.status.idle": "2022-09-13T02:54:51.280309Z",
     "shell.execute_reply": "2022-09-13T02:54:51.278901Z",
     "shell.execute_reply.started": "2022-09-13T02:54:50.042115Z"
    }
   },
   "outputs": [],
   "source": [
    "# !mkdir Pretrained"
   ]
  },
  {
   "cell_type": "code",
   "execution_count": 3,
   "metadata": {
    "execution": {
     "iopub.execute_input": "2022-09-13T02:54:51.283523Z",
     "iopub.status.busy": "2022-09-13T02:54:51.282415Z",
     "iopub.status.idle": "2022-09-13T02:54:52.050393Z",
     "shell.execute_reply": "2022-09-13T02:54:52.048938Z",
     "shell.execute_reply.started": "2022-09-13T02:54:51.283464Z"
    }
   },
   "outputs": [],
   "source": [
    "#Load data\n",
    "# data_path = '/kaggle/input/cancerdataset/METABRIC_RNA_Mutation.csv'\n",
    "data_path = './data/METABRIC_RNA_Mutation.csv'\n",
    "master_data = pd.read_csv(data_path,low_memory=False)\n",
    "master_data = master_data.drop(['patient_id'],axis=1)\n",
    "master_data = master_data.drop(['death_from_cancer'],axis=1)\n",
    "master_data = master_data.dropna()\n",
    "\n",
    "#Split Features and Labels\n",
    "# y = master_data['overall_survival'].values\n",
    "# data = master_data.drop(['overall_survival'], axis=1)\n",
    "\n",
    "#Split Numetical and Categorical Features\n",
    "# numericalFeats = data.select_dtypes('number').columns\n",
    "# categoricalFeats = data.select_dtypes('object').columns\n",
    "# catdata = data[categoricalFeats]\n",
    "# numdata = data[numericalFeats]\n",
    "\n",
    "# Scale Numerical Table\n",
    "# numdata_scaled = preprocessing.scale(numdata)\n",
    "\n",
    "# One-hot/Label Encode Categorical Table\n",
    "# encoder = OneHotEncoder(handle_unknown='ignore')\n",
    "# encoder = LabelEncoder()\n",
    "# encoder.fit(catdata)\n",
    "# dump(encoder, './Pretrained/One_Hot_Encoder.joblib')\n",
    "# dump(encoder, './Pretrained/Label_Encoder.joblib')\n",
    "# catendata = encoder.transform(catdata).toarray()\n",
    "\n",
    "# Combine Features\n",
    "# X = np.concatenate((numdata_scaled, catendata), axis=1)\n",
    "\n",
    "# Separate Train and Testing Data\n",
    "# (X_train, X_test, y_train, y_test) = train_test_split(X, y, test_size=0.30, random_state=42)"
   ]
  },
  {
   "cell_type": "markdown",
   "metadata": {},
   "source": [
    "### Model Training"
   ]
  },
  {
   "cell_type": "code",
   "execution_count": 4,
   "metadata": {
    "execution": {
     "iopub.execute_input": "2022-09-13T02:54:52.054479Z",
     "iopub.status.busy": "2022-09-13T02:54:52.053945Z",
     "iopub.status.idle": "2022-09-13T02:54:52.064197Z",
     "shell.execute_reply": "2022-09-13T02:54:52.062782Z",
     "shell.execute_reply.started": "2022-09-13T02:54:52.054429Z"
    }
   },
   "outputs": [],
   "source": [
    "# def model_training():\n",
    "    \n",
    "#     print('Working on Logistic Regression Model')\n",
    "#     clf_LR = LogisticRegression()\n",
    "#     lr_params = {\"C\":np.logspace(-3,3,7), \"penalty\":[\"l1\",\"l2\"]}\n",
    "#     clf_LR = GridSearchCV(clf_LR, lr_params, cv=10, scoring='roc_auc',refit = True)\n",
    "#     clf_LR.fit(X_train, y_train)\n",
    "#     dump(clf_LR, './Pretrained/Logistic_Regression.joblib')\n",
    "    \n",
    "#     print('Working on Decision Tree Model')\n",
    "#     clf_DT = tree.DecisionTreeClassifier()\n",
    "#     dt_params = {'ccp_alpha': [0.1, .01, .001],'max_depth' : [5, 6, 7, 8, 9]}\n",
    "#     clf_DT = GridSearchCV(clf_DT, dt_params, cv=10, scoring='roc_auc',refit = True)\n",
    "#     clf_DT.fit(X_train, y_train)\n",
    "#     dump(clf_DT, './Pretrained/Decision_Tree.joblib')\n",
    "    \n",
    "#     print('Working on Support Vector Model')\n",
    "#     clf_SVM = svm.SVC()\n",
    "#     svm_params = {'C': [0.1, 1, 10, 100],'gamma': [1, 0.1, 0.01, 0.001]} \n",
    "#     clf_SVM = GridSearchCV(clf_SVM, svm_params, cv=10, scoring='roc_auc',refit = True)\n",
    "#     clf_SVM.fit(X_train, y_train)\n",
    "#     dump(clf_SVM, './Pretrained/Support_Vector_Machine.joblib')\n",
    "    \n",
    "#     print('Working on Random Forest Model')\n",
    "#     clf_RF = RandomForestClassifier()\n",
    "#     rf_params = {'max_depth': list(range(10, 18)),\\\n",
    "#              'max_features': list(range(0,14)),\\\n",
    "#              'n_estimators':[50, 100, 120]}\n",
    "#     clf_RF = GridSearchCV(clf_RF, rf_params, cv = 10, scoring='roc_auc',refit = True)\n",
    "#     clf_RF.fit(X_train, y_train)\n",
    "#     dump(clf_RF, './Pretrained/Random_Forest.joblib')\n",
    "     \n",
    "#     print('Working on XGBosst Model')\n",
    "#     clf_XGB = XGBClassifier()\n",
    "#     xgb_params = {'gamma': [0.5, 1], 'max_depth': [2, 3, 5, 8]}\n",
    "#     clf_XGB = GridSearchCV(clf_XGB, xgb_params, cv = 10, scoring='roc_auc',refit = True)\n",
    "#     clf_XGB.fit(X_train, y_train)\n",
    "#     dump(clf_XGB, './Pretrained/XGBoost.joblib')"
   ]
  },
  {
   "cell_type": "markdown",
   "metadata": {},
   "source": [
    "### Function to Compute Performance Metrics"
   ]
  },
  {
   "cell_type": "code",
   "execution_count": 15,
   "metadata": {
    "execution": {
     "iopub.execute_input": "2022-09-13T02:54:52.066762Z",
     "iopub.status.busy": "2022-09-13T02:54:52.066228Z",
     "iopub.status.idle": "2022-09-13T02:54:52.086394Z",
     "shell.execute_reply": "2022-09-13T02:54:52.085490Z",
     "shell.execute_reply.started": "2022-09-13T02:54:52.066713Z"
    }
   },
   "outputs": [],
   "source": [
    "def performanceResults(y_actual, y_hat):\n",
    "    TP = 0\n",
    "    FP = 0\n",
    "    TN = 0\n",
    "    FN = 0\n",
    "    for i in range(len(y_hat)):\n",
    "        if y_actual[i] == y_hat[i] == 1:\n",
    "            TP += 1\n",
    "        if y_hat[i] == 1 and y_actual[i] != y_hat[i]:\n",
    "            FP += 1\n",
    "        if y_actual[i] == y_hat[i] == 0:\n",
    "            TN += 1\n",
    "        if y_hat[i] == 0 and y_actual[i] != y_hat[i]:\n",
    "            FN += 1\n",
    "    acc = (TP + TN) / (TP + FP + TN + FN)\n",
    "    sensitivity = TP / (TP + FN)\n",
    "    specificity = TN / (TN + FP)\n",
    "    fpr = FP / (FP + TN)\n",
    "    return acc, sensitivity, specificity, fpr"
   ]
  },
  {
   "cell_type": "code",
   "execution_count": 16,
   "metadata": {
    "execution": {
     "iopub.execute_input": "2022-09-13T02:58:42.825184Z",
     "iopub.status.busy": "2022-09-13T02:58:42.824698Z",
     "iopub.status.idle": "2022-09-13T02:58:42.833524Z",
     "shell.execute_reply": "2022-09-13T02:58:42.832126Z",
     "shell.execute_reply.started": "2022-09-13T02:58:42.825134Z"
    }
   },
   "outputs": [],
   "source": [
    "def final_fun_1(X_raw, best_model_path):\n",
    "    #Load pretrained models\n",
    "    clf = load(best_model_path)\n",
    "#     onehot_path = '/kaggle/working/Pretrained/One_Hot_Encoder.joblib'\n",
    "    onehot_path = './Pretrained/One_Hot_Encoder.joblib'\n",
    "    encoder = load(onehot_path)\n",
    "    \n",
    "    #Split Numetical and Categorical Features\n",
    "    numericalFeats = X_raw.select_dtypes('number').columns\n",
    "    categoricalFeats = X_raw.select_dtypes('object').columns\n",
    "    catdata = X_raw[categoricalFeats]\n",
    "    numdata = X_raw[numericalFeats]\n",
    "\n",
    "    # Scale Numerical Table\n",
    "    numdata_scaled = preprocessing.scale(numdata)\n",
    "\n",
    "    # One-hot Encode Test data\n",
    "    catendata = encoder.transform(catdata).toarray()\n",
    "\n",
    "    # Combine Features\n",
    "    X_test = np.concatenate((numdata_scaled, catendata), axis=1)\n",
    "    \n",
    "    y_pred= clf.predict(X_test)\n",
    "    return y_pred"
   ]
  },
  {
   "cell_type": "code",
   "execution_count": 26,
   "metadata": {
    "execution": {
     "iopub.execute_input": "2022-09-13T02:58:43.443962Z",
     "iopub.status.busy": "2022-09-13T02:58:43.442690Z",
     "iopub.status.idle": "2022-09-13T02:58:43.450399Z",
     "shell.execute_reply": "2022-09-13T02:58:43.448958Z",
     "shell.execute_reply.started": "2022-09-13T02:58:43.443913Z"
    }
   },
   "outputs": [],
   "source": [
    "def final_fun_2(X_raw,y_raw):\n",
    "#     best_model_path =  '/kaggle/input/metabric-pretrained/Pretrained/XGBoost.joblib'\n",
    "    best_model_path =  './Pretrained/Random_Forest.joblib'\n",
    "    y_pred = final_fun_1(X_raw, best_model_path)\n",
    "    print(y_pred)\n",
    "    PR = performanceResults(y_raw, y_pred)\n",
    "    (lrfpr, lrtpr, lrthresholds) = metrics.roc_curve(y_raw, y_pred)\n",
    "    roc_auc = metrics.auc(lrfpr, lrtpr)\n",
    "    return PR, roc_auc"
   ]
  },
  {
   "cell_type": "code",
   "execution_count": 27,
   "metadata": {
    "execution": {
     "iopub.execute_input": "2022-09-13T02:58:44.339198Z",
     "iopub.status.busy": "2022-09-13T02:58:44.337910Z",
     "iopub.status.idle": "2022-09-13T02:58:44.344808Z",
     "shell.execute_reply": "2022-09-13T02:58:44.343730Z",
     "shell.execute_reply.started": "2022-09-13T02:58:44.339134Z"
    }
   },
   "outputs": [],
   "source": [
    "# model_training()\n",
    "raw_data = master_data.sample(n=4)"
   ]
  },
  {
   "cell_type": "code",
   "execution_count": 28,
   "metadata": {
    "execution": {
     "iopub.execute_input": "2022-09-13T02:58:44.997007Z",
     "iopub.status.busy": "2022-09-13T02:58:44.996067Z",
     "iopub.status.idle": "2022-09-13T02:58:45.024075Z",
     "shell.execute_reply": "2022-09-13T02:58:45.022917Z",
     "shell.execute_reply.started": "2022-09-13T02:58:44.996966Z"
    }
   },
   "outputs": [
    {
     "data": {
      "text/html": [
       "<div>\n",
       "<style scoped>\n",
       "    .dataframe tbody tr th:only-of-type {\n",
       "        vertical-align: middle;\n",
       "    }\n",
       "\n",
       "    .dataframe tbody tr th {\n",
       "        vertical-align: top;\n",
       "    }\n",
       "\n",
       "    .dataframe thead th {\n",
       "        text-align: right;\n",
       "    }\n",
       "</style>\n",
       "<table border=\"1\" class=\"dataframe\">\n",
       "  <thead>\n",
       "    <tr style=\"text-align: right;\">\n",
       "      <th></th>\n",
       "      <th>age_at_diagnosis</th>\n",
       "      <th>type_of_breast_surgery</th>\n",
       "      <th>cancer_type</th>\n",
       "      <th>cancer_type_detailed</th>\n",
       "      <th>cellularity</th>\n",
       "      <th>chemotherapy</th>\n",
       "      <th>pam50_+_claudin-low_subtype</th>\n",
       "      <th>cohort</th>\n",
       "      <th>er_status_measured_by_ihc</th>\n",
       "      <th>er_status</th>\n",
       "      <th>...</th>\n",
       "      <th>mtap_mut</th>\n",
       "      <th>ppp2cb_mut</th>\n",
       "      <th>smarcd1_mut</th>\n",
       "      <th>nras_mut</th>\n",
       "      <th>ndfip1_mut</th>\n",
       "      <th>hras_mut</th>\n",
       "      <th>prps2_mut</th>\n",
       "      <th>smarcb1_mut</th>\n",
       "      <th>stmn2_mut</th>\n",
       "      <th>siah1_mut</th>\n",
       "    </tr>\n",
       "  </thead>\n",
       "  <tbody>\n",
       "    <tr>\n",
       "      <th>1405</th>\n",
       "      <td>69.56</td>\n",
       "      <td>BREAST CONSERVING</td>\n",
       "      <td>Breast Cancer</td>\n",
       "      <td>Breast Invasive Ductal Carcinoma</td>\n",
       "      <td>Moderate</td>\n",
       "      <td>0</td>\n",
       "      <td>LumB</td>\n",
       "      <td>3.0</td>\n",
       "      <td>Positve</td>\n",
       "      <td>Positive</td>\n",
       "      <td>...</td>\n",
       "      <td>0</td>\n",
       "      <td>0</td>\n",
       "      <td>0</td>\n",
       "      <td>0</td>\n",
       "      <td>0</td>\n",
       "      <td>0</td>\n",
       "      <td>0</td>\n",
       "      <td>0</td>\n",
       "      <td>0</td>\n",
       "      <td>0</td>\n",
       "    </tr>\n",
       "    <tr>\n",
       "      <th>1270</th>\n",
       "      <td>67.25</td>\n",
       "      <td>BREAST CONSERVING</td>\n",
       "      <td>Breast Cancer</td>\n",
       "      <td>Breast Invasive Ductal Carcinoma</td>\n",
       "      <td>High</td>\n",
       "      <td>0</td>\n",
       "      <td>LumB</td>\n",
       "      <td>3.0</td>\n",
       "      <td>Positve</td>\n",
       "      <td>Positive</td>\n",
       "      <td>...</td>\n",
       "      <td>0</td>\n",
       "      <td>0</td>\n",
       "      <td>0</td>\n",
       "      <td>0</td>\n",
       "      <td>0</td>\n",
       "      <td>0</td>\n",
       "      <td>0</td>\n",
       "      <td>0</td>\n",
       "      <td>0</td>\n",
       "      <td>0</td>\n",
       "    </tr>\n",
       "    <tr>\n",
       "      <th>1105</th>\n",
       "      <td>62.68</td>\n",
       "      <td>BREAST CONSERVING</td>\n",
       "      <td>Breast Cancer</td>\n",
       "      <td>Breast Mixed Ductal and Lobular Carcinoma</td>\n",
       "      <td>Moderate</td>\n",
       "      <td>0</td>\n",
       "      <td>LumA</td>\n",
       "      <td>3.0</td>\n",
       "      <td>Positve</td>\n",
       "      <td>Positive</td>\n",
       "      <td>...</td>\n",
       "      <td>0</td>\n",
       "      <td>0</td>\n",
       "      <td>0</td>\n",
       "      <td>0</td>\n",
       "      <td>0</td>\n",
       "      <td>0</td>\n",
       "      <td>0</td>\n",
       "      <td>0</td>\n",
       "      <td>0</td>\n",
       "      <td>0</td>\n",
       "    </tr>\n",
       "    <tr>\n",
       "      <th>1048</th>\n",
       "      <td>73.03</td>\n",
       "      <td>MASTECTOMY</td>\n",
       "      <td>Breast Cancer</td>\n",
       "      <td>Breast Invasive Ductal Carcinoma</td>\n",
       "      <td>Moderate</td>\n",
       "      <td>0</td>\n",
       "      <td>LumA</td>\n",
       "      <td>3.0</td>\n",
       "      <td>Positve</td>\n",
       "      <td>Positive</td>\n",
       "      <td>...</td>\n",
       "      <td>0</td>\n",
       "      <td>0</td>\n",
       "      <td>0</td>\n",
       "      <td>0</td>\n",
       "      <td>0</td>\n",
       "      <td>0</td>\n",
       "      <td>0</td>\n",
       "      <td>0</td>\n",
       "      <td>0</td>\n",
       "      <td>0</td>\n",
       "    </tr>\n",
       "  </tbody>\n",
       "</table>\n",
       "<p>4 rows × 691 columns</p>\n",
       "</div>"
      ],
      "text/plain": [
       "      age_at_diagnosis type_of_breast_surgery    cancer_type  \\\n",
       "1405             69.56      BREAST CONSERVING  Breast Cancer   \n",
       "1270             67.25      BREAST CONSERVING  Breast Cancer   \n",
       "1105             62.68      BREAST CONSERVING  Breast Cancer   \n",
       "1048             73.03             MASTECTOMY  Breast Cancer   \n",
       "\n",
       "                           cancer_type_detailed cellularity  chemotherapy  \\\n",
       "1405           Breast Invasive Ductal Carcinoma    Moderate             0   \n",
       "1270           Breast Invasive Ductal Carcinoma        High             0   \n",
       "1105  Breast Mixed Ductal and Lobular Carcinoma    Moderate             0   \n",
       "1048           Breast Invasive Ductal Carcinoma    Moderate             0   \n",
       "\n",
       "     pam50_+_claudin-low_subtype  cohort er_status_measured_by_ihc er_status  \\\n",
       "1405                        LumB     3.0                   Positve  Positive   \n",
       "1270                        LumB     3.0                   Positve  Positive   \n",
       "1105                        LumA     3.0                   Positve  Positive   \n",
       "1048                        LumA     3.0                   Positve  Positive   \n",
       "\n",
       "      ...  mtap_mut ppp2cb_mut smarcd1_mut nras_mut  ndfip1_mut hras_mut  \\\n",
       "1405  ...         0          0           0        0           0        0   \n",
       "1270  ...         0          0           0        0           0        0   \n",
       "1105  ...         0          0           0        0           0        0   \n",
       "1048  ...         0          0           0        0           0        0   \n",
       "\n",
       "     prps2_mut smarcb1_mut  stmn2_mut  siah1_mut  \n",
       "1405         0           0          0          0  \n",
       "1270         0           0          0          0  \n",
       "1105         0           0          0          0  \n",
       "1048         0           0          0          0  \n",
       "\n",
       "[4 rows x 691 columns]"
      ]
     },
     "execution_count": 28,
     "metadata": {},
     "output_type": "execute_result"
    }
   ],
   "source": [
    "raw_data.head()"
   ]
  },
  {
   "cell_type": "code",
   "execution_count": 29,
   "metadata": {
    "execution": {
     "iopub.execute_input": "2022-09-13T02:58:45.852492Z",
     "iopub.status.busy": "2022-09-13T02:58:45.851776Z",
     "iopub.status.idle": "2022-09-13T02:58:45.860614Z",
     "shell.execute_reply": "2022-09-13T02:58:45.859647Z",
     "shell.execute_reply.started": "2022-09-13T02:58:45.852453Z"
    }
   },
   "outputs": [],
   "source": [
    "# raw_data['overall_survival'].head()"
   ]
  },
  {
   "cell_type": "code",
   "execution_count": 30,
   "metadata": {
    "execution": {
     "iopub.execute_input": "2022-09-13T02:58:47.421937Z",
     "iopub.status.busy": "2022-09-13T02:58:47.421214Z",
     "iopub.status.idle": "2022-09-13T02:58:47.428457Z",
     "shell.execute_reply": "2022-09-13T02:58:47.427194Z",
     "shell.execute_reply.started": "2022-09-13T02:58:47.421895Z"
    }
   },
   "outputs": [],
   "source": [
    "#Split Features and Labels\n",
    "raw_y_values = raw_data['overall_survival'].values\n",
    "raw_feature_values = raw_data.drop(['overall_survival'], axis=1)"
   ]
  },
  {
   "cell_type": "code",
   "execution_count": 31,
   "metadata": {
    "execution": {
     "iopub.execute_input": "2022-09-13T02:58:49.042955Z",
     "iopub.status.busy": "2022-09-13T02:58:49.041834Z",
     "iopub.status.idle": "2022-09-13T02:58:49.072320Z",
     "shell.execute_reply": "2022-09-13T02:58:49.071028Z",
     "shell.execute_reply.started": "2022-09-13T02:58:49.042909Z"
    }
   },
   "outputs": [],
   "source": [
    "# raw_feature_values.head()"
   ]
  },
  {
   "cell_type": "code",
   "execution_count": 32,
   "metadata": {
    "execution": {
     "iopub.execute_input": "2022-09-13T02:58:50.315102Z",
     "iopub.status.busy": "2022-09-13T02:58:50.314669Z",
     "iopub.status.idle": "2022-09-13T02:58:50.326410Z",
     "shell.execute_reply": "2022-09-13T02:58:50.324851Z",
     "shell.execute_reply.started": "2022-09-13T02:58:50.315063Z"
    }
   },
   "outputs": [],
   "source": [
    "# raw_feature_values.to_csv('test_input.csv', index=False)"
   ]
  },
  {
   "cell_type": "code",
   "execution_count": 33,
   "metadata": {
    "execution": {
     "iopub.execute_input": "2022-09-13T02:58:51.680697Z",
     "iopub.status.busy": "2022-09-13T02:58:51.680265Z",
     "iopub.status.idle": "2022-09-13T02:58:51.764678Z",
     "shell.execute_reply": "2022-09-13T02:58:51.763631Z",
     "shell.execute_reply.started": "2022-09-13T02:58:51.680661Z"
    }
   },
   "outputs": [
    {
     "name": "stdout",
     "output_type": "stream",
     "text": [
      "[1 0 0 0]\n"
     ]
    }
   ],
   "source": [
    "PR, roc_auc = final_fun_2(raw_feature_values, raw_y_values)"
   ]
  },
  {
   "cell_type": "code",
   "execution_count": 34,
   "metadata": {
    "execution": {
     "iopub.execute_input": "2022-09-13T02:59:18.995136Z",
     "iopub.status.busy": "2022-09-13T02:59:18.994671Z",
     "iopub.status.idle": "2022-09-13T02:59:19.003266Z",
     "shell.execute_reply": "2022-09-13T02:59:19.001935Z",
     "shell.execute_reply.started": "2022-09-13T02:59:18.995097Z"
    }
   },
   "outputs": [
    {
     "name": "stdout",
     "output_type": "stream",
     "text": [
      "Best Model Performance Metrics on Test Input Data\n",
      "Accuracy:  0.75\n",
      "Sensitivity:  0.5\n",
      "Specificity:  1.0\n",
      "False Positive Rate:  0.0\n",
      "Area Under the Curve (AUC): 0.75\n"
     ]
    }
   ],
   "source": [
    "print('Best Model Performance Metrics on Test Input Data')\n",
    "print ('Accuracy: ', PR[0])\n",
    "print ('Sensitivity: ', PR[1])\n",
    "print ('Specificity: ', PR[2])\n",
    "print ('False Positive Rate: ', PR[3])\n",
    "print('Area Under the Curve (AUC):', roc_auc)"
   ]
  },
  {
   "cell_type": "code",
   "execution_count": null,
   "metadata": {
    "execution": {
     "iopub.execute_input": "2022-09-13T03:10:34.858685Z",
     "iopub.status.busy": "2022-09-13T03:10:34.858145Z",
     "iopub.status.idle": "2022-09-13T03:10:39.866906Z",
     "shell.execute_reply": "2022-09-13T03:10:39.865093Z",
     "shell.execute_reply.started": "2022-09-13T03:10:34.858646Z"
    }
   },
   "outputs": [],
   "source": [
    "# pip freeze"
   ]
  },
  {
   "cell_type": "code",
   "execution_count": null,
   "metadata": {},
   "outputs": [],
   "source": []
  }
 ],
 "metadata": {
  "kernelspec": {
   "display_name": "Python 3 (ipykernel)",
   "language": "python",
   "name": "python3"
  },
  "language_info": {
   "codemirror_mode": {
    "name": "ipython",
    "version": 3
   },
   "file_extension": ".py",
   "mimetype": "text/x-python",
   "name": "python",
   "nbconvert_exporter": "python",
   "pygments_lexer": "ipython3",
   "version": "3.9.12"
  }
 },
 "nbformat": 4,
 "nbformat_minor": 4
}
